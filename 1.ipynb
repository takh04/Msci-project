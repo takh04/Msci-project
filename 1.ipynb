{
 "cells": [
  {
   "cell_type": "code",
   "execution_count": 1,
   "metadata": {},
   "outputs": [],
   "source": [
    "import pennylane as qml\n",
    "from pennylane import numpy as np"
   ]
  },
  {
   "cell_type": "markdown",
   "metadata": {},
   "source": [
    "### Simulating Dynamics of Tri-Junction"
   ]
  },
  {
   "cell_type": "markdown",
   "metadata": {},
   "source": [
    "### 1. From Beenakker's Lecture note"
   ]
  },
  {
   "cell_type": "code",
   "execution_count": 18,
   "metadata": {},
   "outputs": [],
   "source": [
    "d_max, d_min = 0.99, 0.01\n",
    "tau = 1\n",
    "N = 100\n",
    "dt = tau / N"
   ]
  },
  {
   "cell_type": "code",
   "execution_count": 19,
   "metadata": {},
   "outputs": [],
   "source": [
    "def Coupling_strength_cube(t):\n",
    "    if t == 0:\n",
    "        d1, d2, d3 = d_min, d_min, d_max\n",
    "    elif t < tau:\n",
    "        d1 = d_min + (d_max - d_min) * t / tau\n",
    "        d2, d3 = d_min, d_max\n",
    "    elif t < 2 * tau:\n",
    "        d1, d2 = d_max, d_min\n",
    "        d3 = d_max - (d_max - d_min) * (t - tau) / tau\n",
    "    elif t < 3 * tau:\n",
    "        d1, d3 = d_max, d_min\n",
    "        d2 = d_min + (d_max - d_min) * (t - 2 * tau) / tau\n",
    "    elif t < 4 * tau:\n",
    "        d2, d3 = d_max, d_min\n",
    "        d1 = d_max - (d_max - d_min) * (t - 3 * tau) / tau\n",
    "    elif t < 5 * tau:\n",
    "        d1, d2 = d_min, d_max\n",
    "        d3 = d_min + (d_max - d_min) * (t - 4 * tau) / tau\n",
    "    elif t < 6 * tau:\n",
    "        d1, d3 = d_min, d_max\n",
    "        d2 = d_max - (d_max - d_min) * (t - 5 * tau) / tau\n",
    "    elif t == 6 * tau:\n",
    "        d1, d2, d3 = d_min, d_min, d_max\n",
    "    return d1, d2, d3\n",
    "\n",
    "def Coupling_strength_tetrahedron(t):\n",
    "    if t == 0:\n",
    "        d1, d2, d3 = d_min, d_min, d_max\n",
    "    elif t < tau:\n",
    "        d2 = d_min\n",
    "        d1 = d_min + (d_max - d_min) * t / tau\n",
    "        d3 = d_max - (d_max - d_min) * t / tau\n",
    "    elif t < 2 * tau:\n",
    "        d3 = d_min\n",
    "        d1 = d_max - (d_max - d_min) * (t - tau) / tau\n",
    "        d2 = d_min + (d_max - d_min) * (t - tau) / tau\n",
    "    elif t < 3 * tau:\n",
    "        d1 = d_min\n",
    "        d2 = d_max - (d_max - d_min) * (t - 2 * tau) / tau\n",
    "        d3 = d_min + (d_max - d_min) * (t - 2 * tau) / tau\n",
    "    elif t == 3 * tau:\n",
    "        d1, d2, d3 = d_min, d_min, d_max\n",
    "    return d1, d2, d3\n",
    "    \n",
    "def H(t, parameter_path):\n",
    "    if parameter_path == 'cube':\n",
    "        d1, d2, d3 = Coupling_strength_cube(t)\n",
    "    elif parameter_path == 'tetrahedron':\n",
    "        d1, d2, d3 = Coupling_strength_tetrahedron(t)\n",
    "    H = qml.Hamiltonian(\n",
    "        [-d3, -d2, d1],\n",
    "        [qml.Identity(0) @ qml.PauliZ(1), qml.PauliX(0) @ qml.PauliX(1), qml.PauliY(0) @ qml.PauliX(1)])\n",
    "    return H"
   ]
  },
  {
   "cell_type": "code",
   "execution_count": 20,
   "metadata": {},
   "outputs": [],
   "source": [
    "def Evolution_dt(t, parameter_path):\n",
    "    Hamiltonian = H(t, parameter_path)\n",
    "    qml.templates.ApproxTimeEvolution(Hamiltonian, dt, 1)\n",
    "    \n",
    "def initialize(state, ):\n",
    "    d1, d2, d3 = d_min, d_min, d_max\n",
    "    d = (d1**2 + d2**2 + d3**2)**(1/2)\n",
    "    if state == 'plus':\n",
    "        statevector = np.array([1j * (d + d3), 0, 0, d1 + 1j * d2])\n",
    "        statevector = statevector / np.linalg.norm(statevector)\n",
    "        print(\"Initial State is: \" + str(statevector))\n",
    "    elif state == 'minus':\n",
    "        statevector = np.array([0, 1j * (d - d3), d1 + 1j * d2, 0])\n",
    "        statevector = statevector / np.linalg.norm(statevector)\n",
    "        print(\"Initial State is: \" + str(statevector))\n",
    "    else:\n",
    "        print(\"Non-valid initial state\")\n",
    "    qml.templates.AmplitudeEmbedding(statevector, wires=[0,1], normalize=True)"
   ]
  },
  {
   "cell_type": "code",
   "execution_count": 26,
   "metadata": {},
   "outputs": [],
   "source": [
    "dev1 = qml.device('default.qubit', wires=2)\n",
    "\n",
    "@qml.qnode(dev1)\n",
    "def circuit(parameter_path):\n",
    "    if parameter_path == 'cube':\n",
    "        period_num = 6\n",
    "    elif parameter_path == 'tetrahedron':\n",
    "        period_num = 3\n",
    "        \n",
    "    initialize('minus')\n",
    "    \n",
    "  \n",
    "    t = 0\n",
    "    for i in range(period_num):\n",
    "        for i in range(N):\n",
    "            #print(\"t: \" + str(t))\n",
    "            Evolution_dt(t, parameter_path)\n",
    "            t = t + dt  \n",
    "    return qml.state()"
   ]
  },
  {
   "cell_type": "code",
   "execution_count": 27,
   "metadata": {},
   "outputs": [
    {
     "name": "stdout",
     "output_type": "stream",
     "text": [
      "Initial State is: [0.        +0.j         0.        +0.00714195j 0.70708875+0.70708875j\n",
      " 0.        +0.j        ]\n"
     ]
    },
    {
     "data": {
      "text/plain": [
       "tensor([-6.10622664e-16+3.65046806e-15j,  9.76088856e-02-2.16215915e-04j,\n",
       "        -7.65766254e-01+6.35668548e-01j, -7.21644966e-16-8.88178420e-16j], requires_grad=True)"
      ]
     },
     "execution_count": 27,
     "metadata": {},
     "output_type": "execute_result"
    }
   ],
   "source": [
    "circuit('cube')"
   ]
  },
  {
   "cell_type": "code",
   "execution_count": null,
   "metadata": {},
   "outputs": [],
   "source": [
    "J_max = 1\n",
    "a = J_max * 3\n",
    "tau = 3 / J_max \n",
    "\n",
    "N = 3 # Suzuki-Trotter Step\n",
    "dt = tau / N"
   ]
  },
  {
   "cell_type": "code",
   "execution_count": null,
   "metadata": {},
   "outputs": [],
   "source": [
    "dev = qml.device('default.qubit', wires=3, shots=1000)"
   ]
  },
  {
   "cell_type": "code",
   "execution_count": null,
   "metadata": {},
   "outputs": [],
   "source": [
    "# define the Hamiltonian\n",
    "def J(t):\n",
    "    if t < tau:\n",
    "        J_01 = J_max - J_max * t / tau\n",
    "        J_12 = J_max * t / tau\n",
    "        J_20 = 0\n",
    "    elif t < 2 * tau:\n",
    "        J_01 = 0\n",
    "        J_12 = J_max - J_max * (t - tau) / tau\n",
    "        J_20 = J_max * (t - tau) / tau\n",
    "    elif t < 3 * tau:\n",
    "        J_01 = J_max * (t - 2 * tau) / tau\n",
    "        J_12 = 0\n",
    "        J_20 = J_max - J_max * (t - 2 * tau) / tau\n",
    "    elif t < 4 * tau:\n",
    "        J_01 = J_max - J_max * (t - 3 * tau) / tau\n",
    "        J_12 = J_max * (t - 3 * tau) / tau\n",
    "        J_20 = 0\n",
    "    elif t < 5 * tau:\n",
    "        J_01 = 0\n",
    "        J_12 = J_max - J_max * (t - 4 * tau) / tau\n",
    "        J_20 = J_max * (t - 4 * tau) / tau\n",
    "    elif t < 6 * tau:\n",
    "        J_01 = J_max * (t - 5 * tau) / tau\n",
    "        J_12 = 0\n",
    "        J_20 = J_max - J_max * (t - 5 * tau) / tau\n",
    "    \n",
    "    J_list = [J_01, J_12, J_20]\n",
    "    for i in range(3):\n",
    "        if J_list[i] < 1e-10:\n",
    "            J_list[i] = 0\n",
    "    return J_list[0], J_list[1], J_list[2]\n",
    "\n",
    "def Hamiltonian(t):\n",
    "    J_01, J_12, J_20 = J(t)\n",
    "    H = qml.Hamiltonian(\n",
    "        [a, a, a, J_01, J_12, J_20],\n",
    "        [qml.PauliZ(0), qml.PauliZ(1), qml.PauliZ(2), qml.PauliY(0) @ qml.PauliX(1),\n",
    "        qml.PauliY(1) @ qml.PauliX(2), qml.PauliY(0) @ qml.PauliZ(1) @ qml.PauliX(2)])\n",
    "    return H"
   ]
  },
  {
   "cell_type": "code",
   "execution_count": null,
   "metadata": {},
   "outputs": [],
   "source": [
    "def Initialize(state):\n",
    "    qml.RX(-1 * np.pi / 2 , wires=[0])\n",
    "    qml.CNOT(wires=[0,1])\n",
    "    if state == 'plus':\n",
    "        qml.RY(-1 * np.pi / 2, wires=[0])\n",
    "    elif state == 'minus':\n",
    "        qml.RY(np.pi / 2, wires=[0])\n",
    "    qml.RY(np.pi, wires=[2])\n",
    "    \n",
    "def Initialize_inverse(state):\n",
    "    qml.RY(4 * np.pi - np.pi, wires=[2])\n",
    "    if state == 'plus':\n",
    "        qml.RY(4 * np.pi + 1 * np.pi / 2, wires=[0])\n",
    "    elif state == 'minus':\n",
    "        qml.RY(4 * np.pi - np.pi / 2, wires=[0])\n",
    "    qml.CNOT(wires=[0,1])\n",
    "    qml.RX(4 * np.pi + 1 * np.pi / 2 , wires=[0])\n",
    "    \n",
    "def Evolution_dt(t):\n",
    "    H = Hamiltonian(t)\n",
    "    qml.templates.ApproxTimeEvolution(H, dt, 5)\n",
    "    \n",
    "def Evolution_dt_alternative1(t):"
   ]
  },
  {
   "cell_type": "code",
   "execution_count": null,
   "metadata": {},
   "outputs": [],
   "source": [
    "def Evolution_dt_alternative(t):\n",
    "    J_01, J_12, J_20 = J(t)\n",
    "    \n",
    "    qml.RZ(a * dt, wires=[0])\n",
    "    qml.RZ(a * dt, wires=[1])\n",
    "    qml.RZ(a * dt, wires=[2])\n",
    "    \n",
    "    qml.CNOT(wires=[0,1])\n",
    "    qml.RY(J_01 * dt, wires=[0])\n",
    "    qml.CNOT(wires=[0,1])\n",
    "    \n",
    "    qml.CNOT(wires=[1,2])\n",
    "    qml.RY(J_12 * dt, wires=[1])\n",
    "    qml.CNOT(wires=[1,2])\n",
    "    \n",
    "    qml.CNOT(wires=[0,2])\n",
    "    qml.CZ(wires=[0,1])\n",
    "    qml.RY(J_20 * dt, wires=[0])\n",
    "    qml.CZ(wires=[0,1])\n",
    "    qml.CNOT(wires=[0,2])"
   ]
  },
  {
   "cell_type": "code",
   "execution_count": null,
   "metadata": {},
   "outputs": [],
   "source": [
    "@qml.qnode(dev)\n",
    "def circuit():\n",
    "    # Initialize + state\n",
    "    Initialize('plus')\n",
    "    \n",
    "    # Time Evolution\n",
    "    t = 0\n",
    "    for j in range(6):\n",
    "        for i in range(N):\n",
    "            print(t)\n",
    "            Evolution_dt_alternative(t)\n",
    "            t = t + dt\n",
    "    \n",
    "    Initialize_inverse('minus')\n",
    "    return qml.state()"
   ]
  },
  {
   "cell_type": "code",
   "execution_count": null,
   "metadata": {},
   "outputs": [],
   "source": [
    "circuit()"
   ]
  },
  {
   "cell_type": "code",
   "execution_count": null,
   "metadata": {},
   "outputs": [],
   "source": []
  }
 ],
 "metadata": {
  "kernelspec": {
   "display_name": "Python 3",
   "language": "python",
   "name": "python3"
  },
  "language_info": {
   "codemirror_mode": {
    "name": "ipython",
    "version": 3
   },
   "file_extension": ".py",
   "mimetype": "text/x-python",
   "name": "python",
   "nbconvert_exporter": "python",
   "pygments_lexer": "ipython3",
   "version": "3.7.7"
  }
 },
 "nbformat": 4,
 "nbformat_minor": 4
}
